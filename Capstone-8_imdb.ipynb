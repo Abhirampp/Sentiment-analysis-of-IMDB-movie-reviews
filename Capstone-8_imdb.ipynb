{
  "nbformat": 4,
  "nbformat_minor": 0,
  "metadata": {
    "colab": {
      "provenance": []
    },
    "kernelspec": {
      "name": "python3",
      "display_name": "Python 3"
    },
    "language_info": {
      "name": "python"
    },
    "accelerator": "GPU",
    "gpuClass": "standard"
  },
  "cells": [
    {
      "cell_type": "code",
      "execution_count": 9,
      "metadata": {
        "id": "An0STHwNRbNw",
        "colab": {
          "base_uri": "https://localhost:8080/"
        },
        "outputId": "e81b4a56-ec9b-46e5-82b1-a904699a90f8"
      },
      "outputs": [
        {
          "output_type": "stream",
          "name": "stdout",
          "text": [
            "Archive:  archive (2).zip\n",
            "  inflating: IMDB Dataset.csv        \n"
          ]
        }
      ],
      "source": [
        "! unzip archive\\ \\(2\\).zip"
      ]
    },
    {
      "cell_type": "code",
      "source": [
        "import re\n",
        "import string\n",
        "from time import time \n",
        "\n",
        "import torch\n",
        "import torch.nn as nn\n",
        "from tqdm import tqdm\n",
        "from torch.optim.lr_scheduler import StepLR\n",
        "\n",
        "import pandas as pd\n",
        "import matplotlib.pyplot as plt\n",
        "import numpy as np\n",
        "\n",
        "import nltk\n",
        "from nltk.corpus import stopwords\n",
        "from nltk.stem import PorterStemmer\n",
        "\n",
        "device = torch.device('cuda' if torch.cuda.is_available() else 'cpu')\n",
        "print(device)"
      ],
      "metadata": {
        "colab": {
          "base_uri": "https://localhost:8080/"
        },
        "id": "dB7cYV_5aBh3",
        "outputId": "95afd45a-294a-4349-b8ba-232472508a50"
      },
      "execution_count": 5,
      "outputs": [
        {
          "output_type": "stream",
          "name": "stdout",
          "text": [
            "cuda\n"
          ]
        }
      ]
    },
    {
      "cell_type": "code",
      "source": [
        "nltk.download('stopwords')\n",
        "punct = string.punctuation\n",
        "stopwords_english = stopwords.words('english')\n",
        "stemmer = PorterStemmer()\n",
        "data_path = '/content/IMDB Dataset.csv'"
      ],
      "metadata": {
        "colab": {
          "base_uri": "https://localhost:8080/"
        },
        "id": "Gk7amRBmaJx0",
        "outputId": "364324d0-0554-4776-9646-5326ec24c5fd"
      },
      "execution_count": 6,
      "outputs": [
        {
          "output_type": "stream",
          "name": "stderr",
          "text": [
            "[nltk_data] Downloading package stopwords to /root/nltk_data...\n",
            "[nltk_data]   Package stopwords is already up-to-date!\n"
          ]
        }
      ]
    },
    {
      "cell_type": "code",
      "source": [
        "def stratified_split(data, split_ratio=0.95, seed=10):\n",
        "    # could have simply used train_test_split with stratify as parameter\n",
        "    # but implementing just for fun \n",
        "    np.random.seed(seed)\n",
        "    positive_data = data[data['sentiment']=='positive']\n",
        "    negative_data = data[data['sentiment']=='negative']\n",
        "    num_pos = len(positive_data)\n",
        "    num_neg = len(negative_data)\n",
        "    random_pos_permut = np.random.permutation(num_pos)\n",
        "    random_neg_permut = np.random.permutation(num_neg)\n",
        "    train_pos_data = data.iloc[random_pos_permut[:int(split_ratio*num_pos)], :].values\n",
        "    test_pos_data = data.iloc[random_pos_permut[int(split_ratio*num_pos):], :].values\n",
        "    train_neg_data = data.iloc[random_neg_permut[:int(split_ratio*num_neg)], :].values\n",
        "    test_neg_data = data.iloc[random_neg_permut[int(split_ratio*num_neg):], :].values\n",
        "    train_data = np.concatenate((train_pos_data, train_neg_data))\n",
        "    test_data = np.concatenate((test_pos_data, test_neg_data))\n",
        "    return pd.DataFrame(train_data, columns=data.columns), pd.DataFrame(test_data, columns=data.columns)"
      ],
      "metadata": {
        "id": "0Lqt4FPjaWLC"
      },
      "execution_count": 7,
      "outputs": []
    },
    {
      "cell_type": "code",
      "source": [
        "data = pd.read_csv(data_path)\n",
        "print(len(data))\n",
        "data.head()"
      ],
      "metadata": {
        "colab": {
          "base_uri": "https://localhost:8080/",
          "height": 224
        },
        "id": "zJrKzqMFaazv",
        "outputId": "80d78cfa-d687-45bb-eb51-43023137c590"
      },
      "execution_count": 10,
      "outputs": [
        {
          "output_type": "stream",
          "name": "stdout",
          "text": [
            "50000\n"
          ]
        },
        {
          "output_type": "execute_result",
          "data": {
            "text/plain": [
              "                                              review sentiment\n",
              "0  One of the other reviewers has mentioned that ...  positive\n",
              "1  A wonderful little production. <br /><br />The...  positive\n",
              "2  I thought this was a wonderful way to spend ti...  positive\n",
              "3  Basically there's a family where a little boy ...  negative\n",
              "4  Petter Mattei's \"Love in the Time of Money\" is...  positive"
            ],
            "text/html": [
              "\n",
              "  <div id=\"df-140bac10-7ddf-413d-bc33-946f91a41e6b\">\n",
              "    <div class=\"colab-df-container\">\n",
              "      <div>\n",
              "<style scoped>\n",
              "    .dataframe tbody tr th:only-of-type {\n",
              "        vertical-align: middle;\n",
              "    }\n",
              "\n",
              "    .dataframe tbody tr th {\n",
              "        vertical-align: top;\n",
              "    }\n",
              "\n",
              "    .dataframe thead th {\n",
              "        text-align: right;\n",
              "    }\n",
              "</style>\n",
              "<table border=\"1\" class=\"dataframe\">\n",
              "  <thead>\n",
              "    <tr style=\"text-align: right;\">\n",
              "      <th></th>\n",
              "      <th>review</th>\n",
              "      <th>sentiment</th>\n",
              "    </tr>\n",
              "  </thead>\n",
              "  <tbody>\n",
              "    <tr>\n",
              "      <th>0</th>\n",
              "      <td>One of the other reviewers has mentioned that ...</td>\n",
              "      <td>positive</td>\n",
              "    </tr>\n",
              "    <tr>\n",
              "      <th>1</th>\n",
              "      <td>A wonderful little production. &lt;br /&gt;&lt;br /&gt;The...</td>\n",
              "      <td>positive</td>\n",
              "    </tr>\n",
              "    <tr>\n",
              "      <th>2</th>\n",
              "      <td>I thought this was a wonderful way to spend ti...</td>\n",
              "      <td>positive</td>\n",
              "    </tr>\n",
              "    <tr>\n",
              "      <th>3</th>\n",
              "      <td>Basically there's a family where a little boy ...</td>\n",
              "      <td>negative</td>\n",
              "    </tr>\n",
              "    <tr>\n",
              "      <th>4</th>\n",
              "      <td>Petter Mattei's \"Love in the Time of Money\" is...</td>\n",
              "      <td>positive</td>\n",
              "    </tr>\n",
              "  </tbody>\n",
              "</table>\n",
              "</div>\n",
              "      <button class=\"colab-df-convert\" onclick=\"convertToInteractive('df-140bac10-7ddf-413d-bc33-946f91a41e6b')\"\n",
              "              title=\"Convert this dataframe to an interactive table.\"\n",
              "              style=\"display:none;\">\n",
              "        \n",
              "  <svg xmlns=\"http://www.w3.org/2000/svg\" height=\"24px\"viewBox=\"0 0 24 24\"\n",
              "       width=\"24px\">\n",
              "    <path d=\"M0 0h24v24H0V0z\" fill=\"none\"/>\n",
              "    <path d=\"M18.56 5.44l.94 2.06.94-2.06 2.06-.94-2.06-.94-.94-2.06-.94 2.06-2.06.94zm-11 1L8.5 8.5l.94-2.06 2.06-.94-2.06-.94L8.5 2.5l-.94 2.06-2.06.94zm10 10l.94 2.06.94-2.06 2.06-.94-2.06-.94-.94-2.06-.94 2.06-2.06.94z\"/><path d=\"M17.41 7.96l-1.37-1.37c-.4-.4-.92-.59-1.43-.59-.52 0-1.04.2-1.43.59L10.3 9.45l-7.72 7.72c-.78.78-.78 2.05 0 2.83L4 21.41c.39.39.9.59 1.41.59.51 0 1.02-.2 1.41-.59l7.78-7.78 2.81-2.81c.8-.78.8-2.07 0-2.86zM5.41 20L4 18.59l7.72-7.72 1.47 1.35L5.41 20z\"/>\n",
              "  </svg>\n",
              "      </button>\n",
              "      \n",
              "  <style>\n",
              "    .colab-df-container {\n",
              "      display:flex;\n",
              "      flex-wrap:wrap;\n",
              "      gap: 12px;\n",
              "    }\n",
              "\n",
              "    .colab-df-convert {\n",
              "      background-color: #E8F0FE;\n",
              "      border: none;\n",
              "      border-radius: 50%;\n",
              "      cursor: pointer;\n",
              "      display: none;\n",
              "      fill: #1967D2;\n",
              "      height: 32px;\n",
              "      padding: 0 0 0 0;\n",
              "      width: 32px;\n",
              "    }\n",
              "\n",
              "    .colab-df-convert:hover {\n",
              "      background-color: #E2EBFA;\n",
              "      box-shadow: 0px 1px 2px rgba(60, 64, 67, 0.3), 0px 1px 3px 1px rgba(60, 64, 67, 0.15);\n",
              "      fill: #174EA6;\n",
              "    }\n",
              "\n",
              "    [theme=dark] .colab-df-convert {\n",
              "      background-color: #3B4455;\n",
              "      fill: #D2E3FC;\n",
              "    }\n",
              "\n",
              "    [theme=dark] .colab-df-convert:hover {\n",
              "      background-color: #434B5C;\n",
              "      box-shadow: 0px 1px 3px 1px rgba(0, 0, 0, 0.15);\n",
              "      filter: drop-shadow(0px 1px 2px rgba(0, 0, 0, 0.3));\n",
              "      fill: #FFFFFF;\n",
              "    }\n",
              "  </style>\n",
              "\n",
              "      <script>\n",
              "        const buttonEl =\n",
              "          document.querySelector('#df-140bac10-7ddf-413d-bc33-946f91a41e6b button.colab-df-convert');\n",
              "        buttonEl.style.display =\n",
              "          google.colab.kernel.accessAllowed ? 'block' : 'none';\n",
              "\n",
              "        async function convertToInteractive(key) {\n",
              "          const element = document.querySelector('#df-140bac10-7ddf-413d-bc33-946f91a41e6b');\n",
              "          const dataTable =\n",
              "            await google.colab.kernel.invokeFunction('convertToInteractive',\n",
              "                                                     [key], {});\n",
              "          if (!dataTable) return;\n",
              "\n",
              "          const docLinkHtml = 'Like what you see? Visit the ' +\n",
              "            '<a target=\"_blank\" href=https://colab.research.google.com/notebooks/data_table.ipynb>data table notebook</a>'\n",
              "            + ' to learn more about interactive tables.';\n",
              "          element.innerHTML = '';\n",
              "          dataTable['output_type'] = 'display_data';\n",
              "          await google.colab.output.renderOutput(dataTable, element);\n",
              "          const docLink = document.createElement('div');\n",
              "          docLink.innerHTML = docLinkHtml;\n",
              "          element.appendChild(docLink);\n",
              "        }\n",
              "      </script>\n",
              "    </div>\n",
              "  </div>\n",
              "  "
            ]
          },
          "metadata": {},
          "execution_count": 10
        }
      ]
    },
    {
      "cell_type": "code",
      "source": [
        "data.info()"
      ],
      "metadata": {
        "colab": {
          "base_uri": "https://localhost:8080/"
        },
        "id": "6RTRZv1magrR",
        "outputId": "d161c7f4-7a7e-4788-87f9-270d7acce407"
      },
      "execution_count": 11,
      "outputs": [
        {
          "output_type": "stream",
          "name": "stdout",
          "text": [
            "<class 'pandas.core.frame.DataFrame'>\n",
            "RangeIndex: 50000 entries, 0 to 49999\n",
            "Data columns (total 2 columns):\n",
            " #   Column     Non-Null Count  Dtype \n",
            "---  ------     --------------  ----- \n",
            " 0   review     50000 non-null  object\n",
            " 1   sentiment  50000 non-null  object\n",
            "dtypes: object(2)\n",
            "memory usage: 781.4+ KB\n"
          ]
        }
      ]
    },
    {
      "cell_type": "code",
      "source": [
        "train_data, test_data = stratified_split(data, split_ratio=0.75)"
      ],
      "metadata": {
        "id": "VGn8ODBkaixd"
      },
      "execution_count": 12,
      "outputs": []
    },
    {
      "cell_type": "code",
      "source": [
        "print(len(train_data))\n",
        "train_data.head()"
      ],
      "metadata": {
        "colab": {
          "base_uri": "https://localhost:8080/",
          "height": 224
        },
        "id": "MhjPpoEsaoDQ",
        "outputId": "0f53a6e4-9e56-4099-a802-8a67d210bc02"
      },
      "execution_count": 13,
      "outputs": [
        {
          "output_type": "stream",
          "name": "stdout",
          "text": [
            "37500\n"
          ]
        },
        {
          "output_type": "execute_result",
          "data": {
            "text/plain": [
              "                                              review sentiment\n",
              "0  or any stories reminiscent of the Leopold and ...  positive\n",
              "1  i am surprised so few have good words for this...  positive\n",
              "2  Rabbit Seasoning is one of three cartoons that...  positive\n",
              "3  I have to admit that this \"re-imagining\" of th...  negative\n",
              "4  Preston Waters, a 11 years old boy,has problem...  positive"
            ],
            "text/html": [
              "\n",
              "  <div id=\"df-62e8e19c-c8bf-40ae-a60d-81d52fb91c74\">\n",
              "    <div class=\"colab-df-container\">\n",
              "      <div>\n",
              "<style scoped>\n",
              "    .dataframe tbody tr th:only-of-type {\n",
              "        vertical-align: middle;\n",
              "    }\n",
              "\n",
              "    .dataframe tbody tr th {\n",
              "        vertical-align: top;\n",
              "    }\n",
              "\n",
              "    .dataframe thead th {\n",
              "        text-align: right;\n",
              "    }\n",
              "</style>\n",
              "<table border=\"1\" class=\"dataframe\">\n",
              "  <thead>\n",
              "    <tr style=\"text-align: right;\">\n",
              "      <th></th>\n",
              "      <th>review</th>\n",
              "      <th>sentiment</th>\n",
              "    </tr>\n",
              "  </thead>\n",
              "  <tbody>\n",
              "    <tr>\n",
              "      <th>0</th>\n",
              "      <td>or any stories reminiscent of the Leopold and ...</td>\n",
              "      <td>positive</td>\n",
              "    </tr>\n",
              "    <tr>\n",
              "      <th>1</th>\n",
              "      <td>i am surprised so few have good words for this...</td>\n",
              "      <td>positive</td>\n",
              "    </tr>\n",
              "    <tr>\n",
              "      <th>2</th>\n",
              "      <td>Rabbit Seasoning is one of three cartoons that...</td>\n",
              "      <td>positive</td>\n",
              "    </tr>\n",
              "    <tr>\n",
              "      <th>3</th>\n",
              "      <td>I have to admit that this \"re-imagining\" of th...</td>\n",
              "      <td>negative</td>\n",
              "    </tr>\n",
              "    <tr>\n",
              "      <th>4</th>\n",
              "      <td>Preston Waters, a 11 years old boy,has problem...</td>\n",
              "      <td>positive</td>\n",
              "    </tr>\n",
              "  </tbody>\n",
              "</table>\n",
              "</div>\n",
              "      <button class=\"colab-df-convert\" onclick=\"convertToInteractive('df-62e8e19c-c8bf-40ae-a60d-81d52fb91c74')\"\n",
              "              title=\"Convert this dataframe to an interactive table.\"\n",
              "              style=\"display:none;\">\n",
              "        \n",
              "  <svg xmlns=\"http://www.w3.org/2000/svg\" height=\"24px\"viewBox=\"0 0 24 24\"\n",
              "       width=\"24px\">\n",
              "    <path d=\"M0 0h24v24H0V0z\" fill=\"none\"/>\n",
              "    <path d=\"M18.56 5.44l.94 2.06.94-2.06 2.06-.94-2.06-.94-.94-2.06-.94 2.06-2.06.94zm-11 1L8.5 8.5l.94-2.06 2.06-.94-2.06-.94L8.5 2.5l-.94 2.06-2.06.94zm10 10l.94 2.06.94-2.06 2.06-.94-2.06-.94-.94-2.06-.94 2.06-2.06.94z\"/><path d=\"M17.41 7.96l-1.37-1.37c-.4-.4-.92-.59-1.43-.59-.52 0-1.04.2-1.43.59L10.3 9.45l-7.72 7.72c-.78.78-.78 2.05 0 2.83L4 21.41c.39.39.9.59 1.41.59.51 0 1.02-.2 1.41-.59l7.78-7.78 2.81-2.81c.8-.78.8-2.07 0-2.86zM5.41 20L4 18.59l7.72-7.72 1.47 1.35L5.41 20z\"/>\n",
              "  </svg>\n",
              "      </button>\n",
              "      \n",
              "  <style>\n",
              "    .colab-df-container {\n",
              "      display:flex;\n",
              "      flex-wrap:wrap;\n",
              "      gap: 12px;\n",
              "    }\n",
              "\n",
              "    .colab-df-convert {\n",
              "      background-color: #E8F0FE;\n",
              "      border: none;\n",
              "      border-radius: 50%;\n",
              "      cursor: pointer;\n",
              "      display: none;\n",
              "      fill: #1967D2;\n",
              "      height: 32px;\n",
              "      padding: 0 0 0 0;\n",
              "      width: 32px;\n",
              "    }\n",
              "\n",
              "    .colab-df-convert:hover {\n",
              "      background-color: #E2EBFA;\n",
              "      box-shadow: 0px 1px 2px rgba(60, 64, 67, 0.3), 0px 1px 3px 1px rgba(60, 64, 67, 0.15);\n",
              "      fill: #174EA6;\n",
              "    }\n",
              "\n",
              "    [theme=dark] .colab-df-convert {\n",
              "      background-color: #3B4455;\n",
              "      fill: #D2E3FC;\n",
              "    }\n",
              "\n",
              "    [theme=dark] .colab-df-convert:hover {\n",
              "      background-color: #434B5C;\n",
              "      box-shadow: 0px 1px 3px 1px rgba(0, 0, 0, 0.15);\n",
              "      filter: drop-shadow(0px 1px 2px rgba(0, 0, 0, 0.3));\n",
              "      fill: #FFFFFF;\n",
              "    }\n",
              "  </style>\n",
              "\n",
              "      <script>\n",
              "        const buttonEl =\n",
              "          document.querySelector('#df-62e8e19c-c8bf-40ae-a60d-81d52fb91c74 button.colab-df-convert');\n",
              "        buttonEl.style.display =\n",
              "          google.colab.kernel.accessAllowed ? 'block' : 'none';\n",
              "\n",
              "        async function convertToInteractive(key) {\n",
              "          const element = document.querySelector('#df-62e8e19c-c8bf-40ae-a60d-81d52fb91c74');\n",
              "          const dataTable =\n",
              "            await google.colab.kernel.invokeFunction('convertToInteractive',\n",
              "                                                     [key], {});\n",
              "          if (!dataTable) return;\n",
              "\n",
              "          const docLinkHtml = 'Like what you see? Visit the ' +\n",
              "            '<a target=\"_blank\" href=https://colab.research.google.com/notebooks/data_table.ipynb>data table notebook</a>'\n",
              "            + ' to learn more about interactive tables.';\n",
              "          element.innerHTML = '';\n",
              "          dataTable['output_type'] = 'display_data';\n",
              "          await google.colab.output.renderOutput(dataTable, element);\n",
              "          const docLink = document.createElement('div');\n",
              "          docLink.innerHTML = docLinkHtml;\n",
              "          element.appendChild(docLink);\n",
              "        }\n",
              "      </script>\n",
              "    </div>\n",
              "  </div>\n",
              "  "
            ]
          },
          "metadata": {},
          "execution_count": 13
        }
      ]
    },
    {
      "cell_type": "markdown",
      "source": [],
      "metadata": {
        "id": "yuOjPfWzgyVD"
      }
    },
    {
      "cell_type": "code",
      "source": [
        "print(len(test_data))\n",
        "test_data.head()"
      ],
      "metadata": {
        "colab": {
          "base_uri": "https://localhost:8080/",
          "height": 224
        },
        "id": "ajVQDWcLarl5",
        "outputId": "6edcdd94-a50d-4861-af37-fbc75423fbab"
      },
      "execution_count": 14,
      "outputs": [
        {
          "output_type": "stream",
          "name": "stdout",
          "text": [
            "12500\n"
          ]
        },
        {
          "output_type": "execute_result",
          "data": {
            "text/plain": [
              "                                              review sentiment\n",
              "0  While I have seen and enjoyed similar movies t...  negative\n",
              "1  I think \"Anyway...\" is a kick-ass movie. Reall...  positive\n",
              "2  This movie tries to say something profound; I'...  negative\n",
              "3  I am a Shakespeare lover since childhood. I am...  negative\n",
              "4  <br /><br />I have to admit to enjoying bad mo...  positive"
            ],
            "text/html": [
              "\n",
              "  <div id=\"df-ae478d68-2eab-42db-9a34-fbec25284a5a\">\n",
              "    <div class=\"colab-df-container\">\n",
              "      <div>\n",
              "<style scoped>\n",
              "    .dataframe tbody tr th:only-of-type {\n",
              "        vertical-align: middle;\n",
              "    }\n",
              "\n",
              "    .dataframe tbody tr th {\n",
              "        vertical-align: top;\n",
              "    }\n",
              "\n",
              "    .dataframe thead th {\n",
              "        text-align: right;\n",
              "    }\n",
              "</style>\n",
              "<table border=\"1\" class=\"dataframe\">\n",
              "  <thead>\n",
              "    <tr style=\"text-align: right;\">\n",
              "      <th></th>\n",
              "      <th>review</th>\n",
              "      <th>sentiment</th>\n",
              "    </tr>\n",
              "  </thead>\n",
              "  <tbody>\n",
              "    <tr>\n",
              "      <th>0</th>\n",
              "      <td>While I have seen and enjoyed similar movies t...</td>\n",
              "      <td>negative</td>\n",
              "    </tr>\n",
              "    <tr>\n",
              "      <th>1</th>\n",
              "      <td>I think \"Anyway...\" is a kick-ass movie. Reall...</td>\n",
              "      <td>positive</td>\n",
              "    </tr>\n",
              "    <tr>\n",
              "      <th>2</th>\n",
              "      <td>This movie tries to say something profound; I'...</td>\n",
              "      <td>negative</td>\n",
              "    </tr>\n",
              "    <tr>\n",
              "      <th>3</th>\n",
              "      <td>I am a Shakespeare lover since childhood. I am...</td>\n",
              "      <td>negative</td>\n",
              "    </tr>\n",
              "    <tr>\n",
              "      <th>4</th>\n",
              "      <td>&lt;br /&gt;&lt;br /&gt;I have to admit to enjoying bad mo...</td>\n",
              "      <td>positive</td>\n",
              "    </tr>\n",
              "  </tbody>\n",
              "</table>\n",
              "</div>\n",
              "      <button class=\"colab-df-convert\" onclick=\"convertToInteractive('df-ae478d68-2eab-42db-9a34-fbec25284a5a')\"\n",
              "              title=\"Convert this dataframe to an interactive table.\"\n",
              "              style=\"display:none;\">\n",
              "        \n",
              "  <svg xmlns=\"http://www.w3.org/2000/svg\" height=\"24px\"viewBox=\"0 0 24 24\"\n",
              "       width=\"24px\">\n",
              "    <path d=\"M0 0h24v24H0V0z\" fill=\"none\"/>\n",
              "    <path d=\"M18.56 5.44l.94 2.06.94-2.06 2.06-.94-2.06-.94-.94-2.06-.94 2.06-2.06.94zm-11 1L8.5 8.5l.94-2.06 2.06-.94-2.06-.94L8.5 2.5l-.94 2.06-2.06.94zm10 10l.94 2.06.94-2.06 2.06-.94-2.06-.94-.94-2.06-.94 2.06-2.06.94z\"/><path d=\"M17.41 7.96l-1.37-1.37c-.4-.4-.92-.59-1.43-.59-.52 0-1.04.2-1.43.59L10.3 9.45l-7.72 7.72c-.78.78-.78 2.05 0 2.83L4 21.41c.39.39.9.59 1.41.59.51 0 1.02-.2 1.41-.59l7.78-7.78 2.81-2.81c.8-.78.8-2.07 0-2.86zM5.41 20L4 18.59l7.72-7.72 1.47 1.35L5.41 20z\"/>\n",
              "  </svg>\n",
              "      </button>\n",
              "      \n",
              "  <style>\n",
              "    .colab-df-container {\n",
              "      display:flex;\n",
              "      flex-wrap:wrap;\n",
              "      gap: 12px;\n",
              "    }\n",
              "\n",
              "    .colab-df-convert {\n",
              "      background-color: #E8F0FE;\n",
              "      border: none;\n",
              "      border-radius: 50%;\n",
              "      cursor: pointer;\n",
              "      display: none;\n",
              "      fill: #1967D2;\n",
              "      height: 32px;\n",
              "      padding: 0 0 0 0;\n",
              "      width: 32px;\n",
              "    }\n",
              "\n",
              "    .colab-df-convert:hover {\n",
              "      background-color: #E2EBFA;\n",
              "      box-shadow: 0px 1px 2px rgba(60, 64, 67, 0.3), 0px 1px 3px 1px rgba(60, 64, 67, 0.15);\n",
              "      fill: #174EA6;\n",
              "    }\n",
              "\n",
              "    [theme=dark] .colab-df-convert {\n",
              "      background-color: #3B4455;\n",
              "      fill: #D2E3FC;\n",
              "    }\n",
              "\n",
              "    [theme=dark] .colab-df-convert:hover {\n",
              "      background-color: #434B5C;\n",
              "      box-shadow: 0px 1px 3px 1px rgba(0, 0, 0, 0.15);\n",
              "      filter: drop-shadow(0px 1px 2px rgba(0, 0, 0, 0.3));\n",
              "      fill: #FFFFFF;\n",
              "    }\n",
              "  </style>\n",
              "\n",
              "      <script>\n",
              "        const buttonEl =\n",
              "          document.querySelector('#df-ae478d68-2eab-42db-9a34-fbec25284a5a button.colab-df-convert');\n",
              "        buttonEl.style.display =\n",
              "          google.colab.kernel.accessAllowed ? 'block' : 'none';\n",
              "\n",
              "        async function convertToInteractive(key) {\n",
              "          const element = document.querySelector('#df-ae478d68-2eab-42db-9a34-fbec25284a5a');\n",
              "          const dataTable =\n",
              "            await google.colab.kernel.invokeFunction('convertToInteractive',\n",
              "                                                     [key], {});\n",
              "          if (!dataTable) return;\n",
              "\n",
              "          const docLinkHtml = 'Like what you see? Visit the ' +\n",
              "            '<a target=\"_blank\" href=https://colab.research.google.com/notebooks/data_table.ipynb>data table notebook</a>'\n",
              "            + ' to learn more about interactive tables.';\n",
              "          element.innerHTML = '';\n",
              "          dataTable['output_type'] = 'display_data';\n",
              "          await google.colab.output.renderOutput(dataTable, element);\n",
              "          const docLink = document.createElement('div');\n",
              "          docLink.innerHTML = docLinkHtml;\n",
              "          element.appendChild(docLink);\n",
              "        }\n",
              "      </script>\n",
              "    </div>\n",
              "  </div>\n",
              "  "
            ]
          },
          "metadata": {},
          "execution_count": 14
        }
      ]
    },
    {
      "cell_type": "code",
      "source": [
        "value_counts = train_data['sentiment'].value_counts()\n",
        "print(f'number of negative and positive reviews {value_counts.values}')\n",
        "plt.bar(value_counts.keys(), value_counts.values)\n",
        "plt.show()"
      ],
      "metadata": {
        "colab": {
          "base_uri": "https://localhost:8080/",
          "height": 282
        },
        "id": "h5DFgwQfawLg",
        "outputId": "88a882cd-8966-44cf-a6b1-163e08f7ee4a"
      },
      "execution_count": 15,
      "outputs": [
        {
          "output_type": "stream",
          "name": "stdout",
          "text": [
            "number of negative and positive reviews [18861 18639]\n"
          ]
        },
        {
          "output_type": "display_data",
          "data": {
            "text/plain": [
              "<Figure size 432x288 with 1 Axes>"
            ],
            "image/png": "[encoded data removed]"
          },
          "metadata": {
            "needs_background": "light"
          }
        }
      ]
    },
    {
      "cell_type": "code",
      "source": [
        "def preprocessing(string, stopwords):\n",
        "    string  = string.lower() # converting to the lowercase letters\n",
        "    string = re.sub(r'[^a-zA-Z]', ' ', string)\n",
        "    tokens = re.split(' ', string) # splitting the sentence into with delimeter being white space\n",
        "    \n",
        "    clean_tokens = []\n",
        "    for word in tokens:\n",
        "        if word!='' and word not in stopwords:\n",
        "            clean_tokens.append(word)\n",
        "          \n",
        "    return clean_tokens"
      ],
      "metadata": {
        "id": "iQUCJ9tha0nK"
      },
      "execution_count": 16,
      "outputs": []
    },
    {
      "cell_type": "code",
      "source": [
        "def build_vocab_word2ind_ind2word(train_data, closed_vocab_len=1000):\n",
        "    # i will keep vocab_len to be at the max 10000\n",
        "    open_vocab = {}\n",
        "    lengths = [] #  required for further analysis\n",
        "    for index in range(len(train_data)):\n",
        "        sentence_len = 0\n",
        "        for word in preprocessing(train_data['review'][index] ,stopwords_english):\n",
        "            if word in open_vocab.keys():\n",
        "                open_vocab[word]+=1\n",
        "            else:\n",
        "                open_vocab[word]=1\n",
        "            sentence_len+=1\n",
        "        lengths.append(sentence_len) \n",
        "    open_vocab = sorted(open_vocab.items(), key=lambda x:x[1])\n",
        "    open_vocab = open_vocab[::-1] # reversing\n",
        "    #print(type(open_vocab))\n",
        "    closed_vocab = dict(open_vocab[:closed_vocab_len])\n",
        "    #print(type(closed_vocab))\n",
        "    word2ind = {}\n",
        "    ind2word = {}\n",
        "    for x in closed_vocab.keys():\n",
        "        word2ind[x] = len(word2ind) + 1\n",
        "        ind2word[len(ind2word)+1] = x\n",
        "        \n",
        "    return open_vocab, closed_vocab, word2ind, ind2word, lengths"
      ],
      "metadata": {
        "id": "ieUTOYpYa6pL"
      },
      "execution_count": 17,
      "outputs": []
    },
    {
      "cell_type": "code",
      "source": [
        "open_vocab, closed_vocab, word2ind, ind2word, lengths = build_vocab_word2ind_ind2word(train_data)\n",
        "len(open_vocab), len(closed_vocab), len(lengths)"
      ],
      "metadata": {
        "colab": {
          "base_uri": "https://localhost:8080/"
        },
        "id": "C4iW6tFLb3uW",
        "outputId": "25f24656-edd9-48fb-e489-2ec85b6a95e9"
      },
      "execution_count": 18,
      "outputs": [
        {
          "output_type": "execute_result",
          "data": {
            "text/plain": [
              "(72825, 1000, 37500)"
            ]
          },
          "metadata": {},
          "execution_count": 18
        }
      ]
    },
    {
      "cell_type": "code",
      "source": [
        "from matplotlib import style\n",
        "style.use('ggplot')\n",
        "pd.Series(lengths).hist()\n",
        "print(pd.Series(lengths).describe())\n",
        "plt.show()"
      ],
      "metadata": {
        "colab": {
          "base_uri": "https://localhost:8080/",
          "height": 421
        },
        "id": "CxWZM8ZYcCsY",
        "outputId": "1a60bd47-0eb9-4bdc-e111-c305e80c5f57"
      },
      "execution_count": 19,
      "outputs": [
        {
          "output_type": "stream",
          "name": "stdout",
          "text": [
            "count    37500.000000\n",
            "mean       122.866080\n",
            "std         92.679502\n",
            "min          4.000000\n",
            "25%         65.000000\n",
            "50%         91.000000\n",
            "75%        150.000000\n",
            "max        955.000000\n",
            "dtype: float64\n"
          ]
        },
        {
          "output_type": "display_data",
          "data": {
            "text/plain": [
              "<Figure size 432x288 with 1 Axes>"
            ],
            "image/png": "[encoded data removed]"
          },
          "metadata": {}
        }
      ]
    },
    {
      "cell_type": "code",
      "source": [
        "def form_data(DATA, word2ind, max_len=400, type_='training'):\n",
        "    \n",
        "    ctr = 10\n",
        "    data = []\n",
        "    for i in range(len(DATA)):\n",
        "        prep = preprocessing(DATA['review'][i], stopwords_english)\n",
        "        if len(prep)<=max_len:\n",
        "            temp_data = []\n",
        "            for word in prep:\n",
        "                # i am giving padding to be number 0 as our word2ind dict starts from 1 \n",
        "                if word in word2ind.keys():\n",
        "                    temp_data.append(word2ind[word]) \n",
        "            temp_data = [0]*(max_len-len(temp_data)) + temp_data  \n",
        "            if DATA['sentiment'][i]=='positive':\n",
        "                temp_data.append(1)\n",
        "            else:\n",
        "                temp_data.append(0)\n",
        "            if (i+1)%(len(DATA)/10)==0:\n",
        "                print(f'{ctr}% of {type_} data processed')\n",
        "                ctr+=10\n",
        "        data.append(temp_data)\n",
        "    return torch.tensor(data).type(torch.LongTensor)"
      ],
      "metadata": {
        "id": "IuOUGwoucEwm"
      },
      "execution_count": 20,
      "outputs": []
    },
    {
      "cell_type": "code",
      "source": [
        "class SentimentAnalysis(nn.Module):\n",
        "    def __init__(self, num_layers=2, vocab_size=1001, embedding_dim=64, hidden_dim=256, drop_prob=0.3, device=device):\n",
        "        super(SentimentAnalysis, self).__init__()\n",
        "       \n",
        "        self.num_layers = num_layers  \n",
        "        self.vocab_size = vocab_size  \n",
        "        self.embedding_dim = embedding_dim  \n",
        "        self.hidden_dim = hidden_dim\n",
        "        self.device = device\n",
        "        \n",
        "        self.embedding = nn.Embedding(vocab_size, embedding_dim)\n",
        "        self.lstm = nn.LSTM(input_size=embedding_dim, hidden_size=hidden_dim,\n",
        "                            num_layers=num_layers, batch_first=True)\n",
        "        self.dropout = nn.Dropout(drop_prob)\n",
        "        self.fc = nn.Linear(in_features=hidden_dim, out_features=1)\n",
        "        \n",
        "    def forward(self, x):\n",
        "        # initializes hidden_state and cell state\n",
        "        h0 = torch.zeros((self.num_layers, x.shape[0], self.hidden_dim)).to(device)\n",
        "        c0 = torch.zeros((self.num_layers, x.shape[0], self.hidden_dim)).to(device)\n",
        "        hidden = (h0,c0)\n",
        "        \n",
        "        batch_size, seq_len = x.shape\n",
        "        # input will be of shape (batch_size, max_len)  \n",
        "        embeds = self.embedding(x) \n",
        "        lstm_out, hidden = self.lstm(embeds, hidden)  \n",
        "        lstm_out = lstm_out.contiguous().view(-1, self.hidden_dim) \n",
        "        lstm_out = self.dropout(lstm_out) \n",
        "        op = self.fc(lstm_out) \n",
        "        op = op.view(batch_size, seq_len) \n",
        "        op = op[:, -1]\n",
        "        return op "
      ],
      "metadata": {
        "id": "LWGkW5FRcN50"
      },
      "execution_count": 21,
      "outputs": []
    },
    {
      "cell_type": "code",
      "source": [
        "def save_checkpoint(state, filename='my_checkpoint.pth'):\n",
        "   \n",
        "    print(\"-> Saving CheckPoint\")\n",
        "    torch.save(state, filename)"
      ],
      "metadata": {
        "id": "fJpbYlUdclVA"
      },
      "execution_count": 22,
      "outputs": []
    },
    {
      "cell_type": "code",
      "source": [
        "def load_checkpoint(checkpoint, model):\n",
        "   \n",
        "    print(\"-> Loading CheckPoint\")\n",
        "    model.load_state_dict(checkpoint[\"state_dict\"])"
      ],
      "metadata": {
        "id": "ur34egnBcrGl"
      },
      "execution_count": 23,
      "outputs": []
    },
    {
      "cell_type": "code",
      "source": [
        "def train(loader, model, optimizer, loss_fn, scaler, scheduler, clip=5, device=device):\n",
        "    '''\n",
        "    it is the training procedure for one epoch of the network\n",
        "    '''\n",
        "    model.train()\n",
        "    num_batches = len(loader)\n",
        "    batches = tqdm(loader) # tqdm will be used to generate progress bars\n",
        "    train_acc = 0\n",
        "    for idx, batch in enumerate(batches, 0):\n",
        "        inp = batch[:, :-1].to(device)  # shape is (32, max_len)\n",
        "        target = batch[:, -1].type(torch.float32).to(device) # shape is (32,)\n",
        "        \n",
        "        # forward\n",
        "        with torch.cuda.amp.autocast(): \n",
        "            pred = model(inp)\n",
        "            loss = loss_fn(pred, target)\n",
        "            \n",
        "        \n",
        "        optimizer.zero_grad()\n",
        "        scaler.scale(loss).backward()\n",
        "        nn.utils.clip_grad_norm_(model.parameters(), clip)  # for exploding gradients problem\n",
        "        scaler.step(optimizer)\n",
        "        scaler.update()\n",
        "        \n",
        "        \n",
        "        model.eval()\n",
        "        with torch.no_grad():\n",
        "            train_acc += ((pred>0).type(torch.float32)==target).sum().item()/(inp.shape[0])\n",
        "        batches.set_postfix(loss = loss.item()) # loss of this current batch on current iteration \n",
        "        model.train()\n",
        "        \n",
        "    scheduler.step()\n",
        "    train_acc/=num_batches\n",
        "    print(f\"Training accuracy is {train_acc*100}\")"
      ],
      "metadata": {
        "id": "BlxJIc9gcx3m"
      },
      "execution_count": 24,
      "outputs": []
    },
    {
      "cell_type": "code",
      "source": [
        "def test(loader, model):\n",
        "    model.eval()\n",
        "    num_batches = len(loader)\n",
        "    test_acc = 0\n",
        "    with torch.no_grad():\n",
        "        # no tqdm will be used here as we have to just find the accuracy metric\n",
        "        for idx, batch in enumerate(loader, 0):\n",
        "            inp = batch[:, :-1].to(device)\n",
        "            target = batch[:, -1].to(device)\n",
        "            pred = model(inp)\n",
        "            test_acc += ((pred>0).type(torch.float32)==target).sum().item()/(inp.shape[0])\n",
        "    test_acc/=num_batches\n",
        "    print(f\"Testing accuracy is {test_acc*100}\")\n",
        "    model.train()"
      ],
      "metadata": {
        "id": "U1xy586Jc80P"
      },
      "execution_count": 25,
      "outputs": []
    },
    {
      "cell_type": "code",
      "source": [
        "max_len = 400\n",
        "batch_size = 32 \n",
        "lr = 1e-3\n",
        "num_epochs = 10\n",
        "\n",
        "# setting up the dataset, dataloaders and vocabulary \n",
        "TRAIN_DATA = form_data(train_data, word2ind)\n",
        "TEST_DATA = form_data(test_data, word2ind, type_='testing')\n",
        "train_loader = torch.utils.data.DataLoader(TRAIN_DATA, batch_size=batch_size, shuffle=True, num_workers=2)\n",
        "print(\"\\n\\n\\n\")\n",
        "test_loader = torch.utils.data.DataLoader(TEST_DATA, batch_size=batch_size, shuffle=True, num_workers=2)\n",
        "# criterion, optimizer. model"
      ],
      "metadata": {
        "colab": {
          "base_uri": "https://localhost:8080/"
        },
        "id": "kvlMxL7JdCds",
        "outputId": "64983931-ee97-4ef8-dca2-e573b8b66a38"
      },
      "execution_count": 26,
      "outputs": [
        {
          "output_type": "stream",
          "name": "stdout",
          "text": [
            "10% of training data processed\n",
            "20% of training data processed\n",
            "30% of training data processed\n",
            "40% of training data processed\n",
            "50% of training data processed\n",
            "60% of training data processed\n",
            "70% of training data processed\n",
            "80% of training data processed\n",
            "90% of training data processed\n",
            "100% of training data processed\n",
            "10% of testing data processed\n",
            "20% of testing data processed\n",
            "30% of testing data processed\n",
            "40% of testing data processed\n",
            "50% of testing data processed\n",
            "60% of testing data processed\n",
            "70% of testing data processed\n",
            "80% of testing data processed\n",
            "90% of testing data processed\n",
            "100% of testing data processed\n",
            "\n",
            "\n",
            "\n",
            "\n"
          ]
        }
      ]
    },
    {
      "cell_type": "code",
      "source": [
        "model = SentimentAnalysis().to(device)\n",
        "criterion = nn.BCEWithLogitsLoss()\n",
        "scaler = torch.cuda.amp.GradScaler() \n",
        "optimizer = torch.optim.Adam(model.parameters(), lr=lr)\n",
        "scheduler = StepLR(optimizer, step_size=5, gamma=0.1)\n",
        "print(model)"
      ],
      "metadata": {
        "colab": {
          "base_uri": "https://localhost:8080/"
        },
        "id": "re2p47xcdQE_",
        "outputId": "40e12900-99b3-4fa4-bfcf-d132f06c49cb"
      },
      "execution_count": 27,
      "outputs": [
        {
          "output_type": "stream",
          "name": "stdout",
          "text": [
            "SentimentAnalysis(\n",
            "  (embedding): Embedding(1001, 64)\n",
            "  (lstm): LSTM(64, 256, num_layers=2, batch_first=True)\n",
            "  (dropout): Dropout(p=0.3, inplace=False)\n",
            "  (fc): Linear(in_features=256, out_features=1, bias=True)\n",
            ")\n"
          ]
        }
      ]
    },
    {
      "cell_type": "code",
      "source": [
        "for epoch in range(num_epochs):\n",
        "    model.train()\n",
        "    train(train_loader, model, optimizer, criterion, scaler, scheduler)\n",
        "    \n",
        "    # save checkpoints \n",
        "    checkpoint = {\n",
        "        'state_dict': model.state_dict(),\n",
        "        'optimizer':optimizer.state_dict()\n",
        "    }\n",
        "    save_checkpoint(checkpoint)\n",
        "    # check accuracy  om test set\n",
        "    test(test_loader, model)"
      ],
      "metadata": {
        "colab": {
          "base_uri": "https://localhost:8080/"
        },
        "id": "V97lavMPe96d",
        "outputId": "63410369-d062-4997-9eec-4ac452c6570c"
      },
      "execution_count": 28,
      "outputs": [
        {
          "output_type": "stream",
          "name": "stderr",
          "text": [
            "100%|██████████| 1172/1172 [00:48<00:00, 24.05it/s, loss=0.527]\n"
          ]
        },
        {
          "output_type": "stream",
          "name": "stdout",
          "text": [
            "Training accuracy is 76.56554729400294\n",
            "-> Saving CheckPoint\n",
            "Testing accuracy is 80.3037084398977\n"
          ]
        },
        {
          "output_type": "stream",
          "name": "stderr",
          "text": [
            "100%|██████████| 1172/1172 [00:47<00:00, 24.49it/s, loss=0.174]\n"
          ]
        },
        {
          "output_type": "stream",
          "name": "stdout",
          "text": [
            "Training accuracy is 85.12349158946856\n",
            "-> Saving CheckPoint\n",
            "Testing accuracy is 86.5153452685422\n"
          ]
        },
        {
          "output_type": "stream",
          "name": "stderr",
          "text": [
            "100%|██████████| 1172/1172 [00:46<00:00, 25.28it/s, loss=0.455]\n"
          ]
        },
        {
          "output_type": "stream",
          "name": "stdout",
          "text": [
            "Training accuracy is 89.11887493905411\n",
            "-> Saving CheckPoint\n",
            "Testing accuracy is 88.57257033248082\n"
          ]
        },
        {
          "output_type": "stream",
          "name": "stderr",
          "text": [
            "100%|██████████| 1172/1172 [00:45<00:00, 25.52it/s, loss=0.183]\n"
          ]
        },
        {
          "output_type": "stream",
          "name": "stdout",
          "text": [
            "Training accuracy is 93.02131582155046\n",
            "-> Saving CheckPoint\n",
            "Testing accuracy is 91.0230179028133\n"
          ]
        },
        {
          "output_type": "stream",
          "name": "stderr",
          "text": [
            "100%|██████████| 1172/1172 [00:46<00:00, 25.26it/s, loss=0.0639]\n"
          ]
        },
        {
          "output_type": "stream",
          "name": "stdout",
          "text": [
            "Training accuracy is 94.55524744027304\n",
            "-> Saving CheckPoint\n",
            "Testing accuracy is 92.6854219948849\n"
          ]
        },
        {
          "output_type": "stream",
          "name": "stderr",
          "text": [
            "100%|██████████| 1172/1172 [00:46<00:00, 25.23it/s, loss=0.000556]\n"
          ]
        },
        {
          "output_type": "stream",
          "name": "stdout",
          "text": [
            "Training accuracy is 98.11486774744027\n",
            "-> Saving CheckPoint\n",
            "Testing accuracy is 94.10965473145781\n"
          ]
        },
        {
          "output_type": "stream",
          "name": "stderr",
          "text": [
            "100%|██████████| 1172/1172 [00:46<00:00, 25.14it/s, loss=8.68e-5]\n"
          ]
        },
        {
          "output_type": "stream",
          "name": "stdout",
          "text": [
            "Training accuracy is 98.81612627986348\n",
            "-> Saving CheckPoint\n",
            "Testing accuracy is 94.451726342711\n"
          ]
        },
        {
          "output_type": "stream",
          "name": "stderr",
          "text": [
            "100%|██████████| 1172/1172 [00:45<00:00, 25.72it/s, loss=0.0247]\n"
          ]
        },
        {
          "output_type": "stream",
          "name": "stdout",
          "text": [
            "Training accuracy is 99.15742320819113\n",
            "-> Saving CheckPoint\n",
            "Testing accuracy is 94.92806905370844\n"
          ]
        },
        {
          "output_type": "stream",
          "name": "stderr",
          "text": [
            "100%|██████████| 1172/1172 [00:45<00:00, 25.74it/s, loss=1.24e-6]\n"
          ]
        },
        {
          "output_type": "stream",
          "name": "stdout",
          "text": [
            "Training accuracy is 99.47738907849829\n",
            "-> Saving CheckPoint\n",
            "Testing accuracy is 95.23976982097186\n"
          ]
        },
        {
          "output_type": "stream",
          "name": "stderr",
          "text": [
            "100%|██████████| 1172/1172 [00:45<00:00, 25.98it/s, loss=0.0051]\n"
          ]
        },
        {
          "output_type": "stream",
          "name": "stdout",
          "text": [
            "Training accuracy is 99.70669795221842\n",
            "-> Saving CheckPoint\n",
            "Testing accuracy is 95.33567774936061\n"
          ]
        }
      ]
    },
    {
      "cell_type": "code",
      "source": [
        "def predict_sentiment(text):\n",
        "    prep = preprocessing(text, stopwords_english)\n",
        "    prep = prep[:max_len] # length or the text can be greater than max_len\n",
        "    prep = [word2ind[word] for word in prep if word in word2ind.keys()]\n",
        "    prep = [0]*(max_len-len(prep)) + prep\n",
        "    prep = torch.tensor(prep).type(torch.LongTensor)\n",
        "    prep = prep.reshape(1, prep.shape[0]).to(device)\n",
        "    op = model(prep)\n",
        "    op = torch.sigmoid(op)\n",
        "    if op[0]>0.5:\n",
        "        print(\"This review seems poistive to us with a probability of \", op[0].item())\n",
        "    else:\n",
        "        print(\"This review seems negative to us with a probability of \", 1-op[0].item())"
      ],
      "metadata": {
        "id": "c0j_VuyXjw_R"
      },
      "execution_count": 29,
      "outputs": []
    },
    {
      "cell_type": "code",
      "source": [
        "index = 11\n",
        "print(data['review'][index])\n",
        "print(\"\\n\\n\\n\")\n",
        "predict_sentiment(data['review'][index])"
      ],
      "metadata": {
        "colab": {
          "base_uri": "https://localhost:8080/"
        },
        "id": "6j4KOx7mj8TO",
        "outputId": "136d4bf6-74ff-4d90-82bd-c7795f1e994f"
      },
      "execution_count": 30,
      "outputs": [
        {
          "output_type": "stream",
          "name": "stdout",
          "text": [
            "I saw this movie when I was about 12 when it came out. I recall the scariest scene was the big bird eating men dangling helplessly from parachutes right out of the air. The horror. The horror.<br /><br />As a young kid going to these cheesy B films on Saturday afternoons, I still was tired of the formula for these monster type movies that usually included the hero, a beautiful woman who might be the daughter of a professor and a happy resolution when the monster died in the end. I didn't care much for the romantic angle as a 12 year old and the predictable plots. I love them now for the unintentional humor.<br /><br />But, about a year or so later, I saw Psycho when it came out and I loved that the star, Janet Leigh, was bumped off early in the film. I sat up and took notice at that point. Since screenwriters are making up the story, make it up to be as scary as possible and not from a well-worn formula. There are no rules.\n",
            "\n",
            "\n",
            "\n",
            "\n",
            "This review seems negative to us with a probability of  0.9999989209161413\n"
          ]
        }
      ]
    }
  ]
}